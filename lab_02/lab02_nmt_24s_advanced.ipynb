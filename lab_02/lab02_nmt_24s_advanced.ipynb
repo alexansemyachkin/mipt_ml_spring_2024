{
 "cells": [
  {
   "cell_type": "markdown",
   "metadata": {
    "id": "BmwNc0Bb5X3p"
   },
   "source": [
    "## Lab assignment 02"
   ]
  },
  {
   "cell_type": "markdown",
   "metadata": {
    "id": "Ydqh6Nv-5X3q"
   },
   "source": [
    "### Neural Machine Translation in the wild\n",
    "In the third homework you are supposed to get the best translation you can for the RU-EN translation task.\n",
    "\n",
    "Basic approach using RNNs as encoder and decoder is implemented for you.\n",
    "\n",
    "Your ultimate task is to use the techniques we've covered, e.g.\n",
    "\n",
    "* Optimization enhancements (e.g. learning rate decay)\n",
    "\n",
    "* Transformer/CNN/<whatever you select> encoder (with or without positional encoding)\n",
    "\n",
    "* attention/self-attention mechanism (**highly recommended**)\n",
    "\n",
    "* custom tokenization (BPE units, other subword approaches)\n",
    "\n",
    "to improve the translation quality.\n",
    "\n",
    "--------\n",
    "\n",
    "* __Please use at least three different approaches/models and compare them (translation quality/complexity/training and evaluation time).__\n",
    "\n",
    "* Write down some summary on your experiments and illustrate it with convergence plots/metrics and your thoughts. Just like you would approach a real problem."
   ]
  },
  {
   "cell_type": "code",
   "execution_count": 1,
   "metadata": {
    "execution": {
     "iopub.execute_input": "2024-03-05T09:24:11.810586Z",
     "iopub.status.busy": "2024-03-05T09:24:11.810315Z",
     "iopub.status.idle": "2024-03-05T09:24:11.813097Z",
     "shell.execute_reply": "2024-03-05T09:24:11.812584Z",
     "shell.execute_reply.started": "2024-03-05T09:24:11.810569Z"
    },
    "id": "7_dvIsbm5X3r"
   },
   "outputs": [],
   "source": [
    "# You might need to install the libraries below. Do it in the desired environment\n",
    "# if you are working locally.\n",
    "\n",
    "# ! pip  install subword-nmt\n",
    "# ! pip install nltk\n",
    "# ! pip install torchtext"
   ]
  },
  {
   "cell_type": "code",
   "execution_count": 2,
   "metadata": {
    "execution": {
     "iopub.execute_input": "2024-03-05T09:24:11.813817Z",
     "iopub.status.busy": "2024-03-05T09:24:11.813645Z",
     "iopub.status.idle": "2024-03-05T09:24:11.941132Z",
     "shell.execute_reply": "2024-03-05T09:24:11.939645Z",
     "shell.execute_reply.started": "2024-03-05T09:24:11.813802Z"
    },
    "id": "meRCsofE5X3r"
   },
   "outputs": [
    {
     "name": "stdout",
     "output_type": "stream",
     "text": [
      "Dataset not found locally. Downloading from github.\n",
      "File ‘data.txt’ already there; not retrieving.\n",
      "\n"
     ]
    }
   ],
   "source": [
    "# Thanks to YSDA NLP course team for the data\n",
    "# (who thanks tilda and deephack teams for the data in their turn)\n",
    "\n",
    "import os\n",
    "import gc\n",
    "import tqdm\n",
    "\n",
    "path_do_data = '../../datasets/Machine_translation_EN_RU/data.txt'\n",
    "if not os.path.exists(path_do_data):\n",
    "    print(\"Dataset not found locally. Downloading from github.\")\n",
    "    !wget https://raw.githubusercontent.com/neychev/made_nlp_course/master/datasets/Machine_translation_EN_RU/data.txt -nc\n",
    "    path_do_data = './data.txt'"
   ]
  },
  {
   "cell_type": "markdown",
   "metadata": {
    "id": "mSVNrhIm560f"
   },
   "source": [
    "#### Grading criteria\n",
    "\n",
    "**100%**\n",
    "- implementation of at least 3 model improvements over baseline\n",
    "- threshold of 27 BLEU on test corpus\n",
    "- experimental results and conclusions in human-readable format :)\n",
    "\n",
    "**70%**\n",
    "- implementation of at least 2 model improvements over baseline\n",
    "- threshold of 25 BLEU on test corpus\n",
    "- experimental results and conclusions in human-readable format :)\n",
    "\n",
    "**30%**\n",
    "- implementation of at least 1 model improvement over baseline\n",
    "- threshold of 21 BLEU on test corpus\n",
    "- experimental results and conclusions in human-readable format :)\n",
    "\n",
    "\n",
    "------\n",
    "\n",
    "#### **Note: Please do not use pretrained machine translation / BERT / LLM checkpoints. All such solutions will be graded at 30% pts.**\n"
   ]
  },
  {
   "cell_type": "markdown",
   "metadata": {
    "id": "gTCdJvym5X3r"
   },
   "source": [
    "### Warning! The code below is deeeeeeeply deprecated and is is provided only as simple guide.\n",
    "We suggest you to stick to most recent pipelines here, e.g. by Huggingface:\n",
    "* Example notebook: [link](https://github.com/huggingface/notebooks/blob/main/examples/translation.ipynb)\n",
    "* Converting your own dataset to specific format: [link](https://discuss.huggingface.co/t/correct-way-to-create-a-dataset-from-a-csv-file/15686/15)"
   ]
  },
  {
   "cell_type": "code",
   "execution_count": 3,
   "metadata": {
    "execution": {
     "iopub.execute_input": "2024-03-05T09:24:11.945161Z",
     "iopub.status.busy": "2024-03-05T09:24:11.944749Z",
     "iopub.status.idle": "2024-03-05T09:24:13.646854Z",
     "shell.execute_reply": "2024-03-05T09:24:13.646086Z",
     "shell.execute_reply.started": "2024-03-05T09:24:11.945120Z"
    },
    "id": "0QEVmpe95X3s",
    "tags": []
   },
   "outputs": [],
   "source": [
    "# old deprecated code\n",
    "import torch\n",
    "import torch.nn as nn\n",
    "import torch.optim as optim\n",
    "\n",
    "import torchtext\n",
    "from torchtext.datasets import TranslationDataset, Multi30k\n",
    "from torchtext.data import Field, BucketIterator\n",
    "\n",
    "import spacy\n",
    "\n",
    "import random\n",
    "import math\n",
    "import time\n",
    "\n",
    "import matplotlib\n",
    "matplotlib.rcParams.update({'figure.figsize': (16, 12), 'font.size': 14})\n",
    "import matplotlib.pyplot as plt\n",
    "%matplotlib inline\n",
    "from IPython.display import clear_output\n",
    "\n",
    "from nltk.tokenize import WordPunctTokenizer\n",
    "# from subword_nmt.learn_bpe import learn_bpe\n",
    "# from subword_nmt.apply_bpe import BPE"
   ]
  },
  {
   "cell_type": "markdown",
   "metadata": {
    "id": "45VrR5c75X3s"
   },
   "source": [
    "### Main part\n",
    "__Here comes the preprocessing. Do not hesitate to use BPE or more complex preprocessing ;)__"
   ]
  },
  {
   "cell_type": "code",
   "execution_count": 4,
   "metadata": {
    "execution": {
     "iopub.execute_input": "2024-03-05T09:24:13.647713Z",
     "iopub.status.busy": "2024-03-05T09:24:13.647497Z",
     "iopub.status.idle": "2024-03-05T09:24:13.650364Z",
     "shell.execute_reply": "2024-03-05T09:24:13.649996Z",
     "shell.execute_reply.started": "2024-03-05T09:24:13.647697Z"
    },
    "id": "Y_9BgbGv5X3s"
   },
   "outputs": [],
   "source": [
    "tokenizer_W = WordPunctTokenizer()\n",
    "def tokenize(x, tokenizer=tokenizer_W):\n",
    "    return tokenizer.tokenize(x.lower())"
   ]
  },
  {
   "cell_type": "code",
   "execution_count": 5,
   "metadata": {
    "execution": {
     "iopub.execute_input": "2024-03-05T09:24:13.651039Z",
     "iopub.status.busy": "2024-03-05T09:24:13.650857Z",
     "iopub.status.idle": "2024-03-05T09:24:14.886152Z",
     "shell.execute_reply": "2024-03-05T09:24:14.885395Z",
     "shell.execute_reply.started": "2024-03-05T09:24:13.651024Z"
    },
    "id": "A-BlIYlJ5X3s"
   },
   "outputs": [],
   "source": [
    "SRC = Field(tokenize=tokenize,\n",
    "            init_token = '<sos>',\n",
    "            eos_token = '<eos>',\n",
    "            lower = True)\n",
    "\n",
    "TRG = Field(tokenize=tokenize,\n",
    "            init_token = '<sos>',\n",
    "            eos_token = '<eos>',\n",
    "            lower = True)\n",
    "\n",
    "dataset = torchtext.data.TabularDataset(\n",
    "    path=path_do_data,\n",
    "    format='tsv',\n",
    "    fields=[('trg', TRG), ('src', SRC)]\n",
    ")"
   ]
  },
  {
   "cell_type": "code",
   "execution_count": 6,
   "metadata": {
    "execution": {
     "iopub.execute_input": "2024-03-05T09:24:14.887066Z",
     "iopub.status.busy": "2024-03-05T09:24:14.886785Z",
     "iopub.status.idle": "2024-03-05T09:24:14.911395Z",
     "shell.execute_reply": "2024-03-05T09:24:14.910664Z",
     "shell.execute_reply.started": "2024-03-05T09:24:14.887049Z"
    },
    "id": "x_fOj6235X3s"
   },
   "outputs": [],
   "source": [
    "train_data, valid_data, test_data = dataset.split(split_ratio=[0.8, 0.15, 0.05])"
   ]
  },
  {
   "cell_type": "code",
   "execution_count": 7,
   "metadata": {
    "execution": {
     "iopub.execute_input": "2024-03-05T09:24:14.912235Z",
     "iopub.status.busy": "2024-03-05T09:24:14.911954Z",
     "iopub.status.idle": "2024-03-05T09:24:14.923313Z",
     "shell.execute_reply": "2024-03-05T09:24:14.921729Z",
     "shell.execute_reply.started": "2024-03-05T09:24:14.912218Z"
    },
    "id": "LVwb_lXu5X3s",
    "outputId": "a7b743eb-6074-4fa7-c660-3e95b9e94bc4"
   },
   "outputs": [
    {
     "name": "stdout",
     "output_type": "stream",
     "text": [
      "Number of training examples: 40000\n",
      "Number of validation examples: 2500\n",
      "Number of testing examples: 7500\n"
     ]
    }
   ],
   "source": [
    "print(f\"Number of training examples: {len(train_data.examples)}\")\n",
    "print(f\"Number of validation examples: {len(valid_data.examples)}\")\n",
    "print(f\"Number of testing examples: {len(test_data.examples)}\")"
   ]
  },
  {
   "cell_type": "code",
   "execution_count": 8,
   "metadata": {
    "execution": {
     "iopub.execute_input": "2024-03-05T09:24:14.925355Z",
     "iopub.status.busy": "2024-03-05T09:24:14.924639Z",
     "iopub.status.idle": "2024-03-05T09:24:15.192639Z",
     "shell.execute_reply": "2024-03-05T09:24:15.191956Z",
     "shell.execute_reply.started": "2024-03-05T09:24:14.925323Z"
    },
    "id": "o4T1u_KB5X3t"
   },
   "outputs": [],
   "source": [
    "SRC.build_vocab(train_data, min_freq = 3)\n",
    "TRG.build_vocab(train_data, min_freq = 3)"
   ]
  },
  {
   "cell_type": "code",
   "execution_count": 9,
   "metadata": {
    "execution": {
     "iopub.execute_input": "2024-03-05T09:24:15.193275Z",
     "iopub.status.busy": "2024-03-05T09:24:15.193117Z",
     "iopub.status.idle": "2024-03-05T09:24:15.196168Z",
     "shell.execute_reply": "2024-03-05T09:24:15.195750Z",
     "shell.execute_reply.started": "2024-03-05T09:24:15.193260Z"
    },
    "id": "L7_STXhR5X3t",
    "outputId": "1666267e-1cd9-4f13-f2c9-261338bb7628"
   },
   "outputs": [
    {
     "name": "stdout",
     "output_type": "stream",
     "text": [
      "Unique tokens in source (ru) vocabulary: 9208\n",
      "Unique tokens in target (en) vocabulary: 6695\n"
     ]
    }
   ],
   "source": [
    "print(f\"Unique tokens in source (ru) vocabulary: {len(SRC.vocab)}\")\n",
    "print(f\"Unique tokens in target (en) vocabulary: {len(TRG.vocab)}\")"
   ]
  },
  {
   "cell_type": "markdown",
   "metadata": {
    "id": "ZYFFDCXJ5X3t"
   },
   "source": [
    "Here are tokens from original (RU) corpus:"
   ]
  },
  {
   "cell_type": "code",
   "execution_count": 10,
   "metadata": {
    "execution": {
     "iopub.execute_input": "2024-03-05T09:24:15.197111Z",
     "iopub.status.busy": "2024-03-05T09:24:15.196710Z",
     "iopub.status.idle": "2024-03-05T09:24:15.204699Z",
     "shell.execute_reply": "2024-03-05T09:24:15.204152Z",
     "shell.execute_reply.started": "2024-03-05T09:24:15.197095Z"
    },
    "id": "v9WNMVnz5X3t",
    "outputId": "2068d040-45ce-4560-9d2d-e27db0b9e7b8"
   },
   "outputs": [
    {
     "data": {
      "text/plain": [
       "['<unk>',\n",
       " 'городского',\n",
       " 'hôtes',\n",
       " 'массажным',\n",
       " 'lucia',\n",
       " '95',\n",
       " 'olympia',\n",
       " 'хусейна',\n",
       " 'дуа',\n",
       " 'туристы']"
      ]
     },
     "execution_count": 10,
     "metadata": {},
     "output_type": "execute_result"
    }
   ],
   "source": [
    "SRC.vocab.itos[::1000]"
   ]
  },
  {
   "cell_type": "markdown",
   "metadata": {
    "id": "1ZU4KfiM5X3t"
   },
   "source": [
    "And from target (EN) corpus:"
   ]
  },
  {
   "cell_type": "code",
   "execution_count": 11,
   "metadata": {
    "execution": {
     "iopub.execute_input": "2024-03-05T09:24:15.205626Z",
     "iopub.status.busy": "2024-03-05T09:24:15.205425Z",
     "iopub.status.idle": "2024-03-05T09:24:15.212935Z",
     "shell.execute_reply": "2024-03-05T09:24:15.212388Z",
     "shell.execute_reply.started": "2024-03-05T09:24:15.205602Z"
    },
    "id": "fi7qQJbh5X3t",
    "outputId": "426ddeda-f4e2-4330-fd66-da324a599ffa"
   },
   "outputs": [
    {
     "data": {
      "text/plain": [
       "['<unk>',\n",
       " 'apartamento',\n",
       " 'cove',\n",
       " 'cosmopolitan',\n",
       " 'negombo',\n",
       " 'sparkling',\n",
       " 'macedonia']"
      ]
     },
     "execution_count": 11,
     "metadata": {},
     "output_type": "execute_result"
    }
   ],
   "source": [
    "TRG.vocab.itos[::1000]"
   ]
  },
  {
   "cell_type": "markdown",
   "metadata": {
    "id": "i8Ry9Vmg5X3t"
   },
   "source": [
    "And here is example from train dataset:"
   ]
  },
  {
   "cell_type": "code",
   "execution_count": 12,
   "metadata": {
    "execution": {
     "iopub.execute_input": "2024-03-05T09:24:15.216776Z",
     "iopub.status.busy": "2024-03-05T09:24:15.216573Z",
     "iopub.status.idle": "2024-03-05T09:24:15.220254Z",
     "shell.execute_reply": "2024-03-05T09:24:15.219715Z",
     "shell.execute_reply.started": "2024-03-05T09:24:15.216753Z"
    },
    "id": "LyKi-7uf5X3t",
    "outputId": "9230c88a-c8f5-4e2d-f9d6-1eb6970b8600"
   },
   "outputs": [
    {
     "name": "stdout",
     "output_type": "stream",
     "text": [
      "{'trg': ['located', '600', 'metres', 'from', 'national', 'academic', 'big', 'opera', 'and', 'ballet', 'theatre', ',', 'apartment', 'sweethome', '2', 'offers', 'accommodation', 'in', 'minsk', '.', 'the', 'apartment', 'is', '1', '.', '2', 'km', 'from', 'holy', 'spirit', 'cathedral', '.'], 'src': ['апартаменты', 'sweethome', '2', 'расположены', 'в', 'минске', ',', 'в', '600', 'метрах', 'от', 'большого', 'театра', 'оперы', 'и', 'балета', 'республики', 'беларусь', 'и', 'в', '1', ',', '2', 'км', 'от', 'собора', 'сошествия', 'святого', 'духа', '.']}\n"
     ]
    }
   ],
   "source": [
    "print(vars(train_data.examples[9]))"
   ]
  },
  {
   "cell_type": "markdown",
   "metadata": {
    "id": "TQMnac635X3t"
   },
   "source": [
    "Let's check the length distributions:"
   ]
  },
  {
   "cell_type": "code",
   "execution_count": 13,
   "metadata": {
    "execution": {
     "iopub.execute_input": "2024-03-05T09:24:15.221166Z",
     "iopub.status.busy": "2024-03-05T09:24:15.220964Z",
     "iopub.status.idle": "2024-03-05T09:24:15.599196Z",
     "shell.execute_reply": "2024-03-05T09:24:15.598624Z",
     "shell.execute_reply.started": "2024-03-05T09:24:15.221143Z"
    },
    "id": "T1ObGYYM5X3t",
    "outputId": "58977d29-617a-407c-d8b8-6a51d71f5083"
   },
   "outputs": [
    {
     "name": "stdout",
     "output_type": "stream",
     "text": [
      "Length distribution in Train data\n"
     ]
    },
    {
     "data": {
      "image/png": "[encoded data removed]",
      "text/plain": [
       "<Figure size 800x400 with 2 Axes>"
      ]
     },
     "metadata": {},
     "output_type": "display_data"
    }
   ],
   "source": [
    "src_length = map(len, [vars(x)['src'] for x in train_data.examples])\n",
    "trg_length = map(len, [vars(x)['trg'] for x in train_data.examples])\n",
    "\n",
    "print('Length distribution in Train data')\n",
    "plt.figure(figsize=[8, 4])\n",
    "plt.subplot(1, 2, 1)\n",
    "plt.title(\"source length\")\n",
    "plt.hist(list(src_length), bins=20);\n",
    "\n",
    "plt.subplot(1, 2, 2)\n",
    "plt.title(\"translation length\")\n",
    "plt.hist(list(trg_length), bins=20);"
   ]
  },
  {
   "cell_type": "code",
   "execution_count": 14,
   "metadata": {
    "execution": {
     "iopub.execute_input": "2024-03-05T09:24:15.600211Z",
     "iopub.status.busy": "2024-03-05T09:24:15.599962Z",
     "iopub.status.idle": "2024-03-05T09:24:16.022052Z",
     "shell.execute_reply": "2024-03-05T09:24:16.021483Z",
     "shell.execute_reply.started": "2024-03-05T09:24:15.600187Z"
    },
    "id": "lP_SH6Ym5X3t",
    "outputId": "296a4302-a92b-4fd2-aa03-ae28ec856227"
   },
   "outputs": [
    {
     "name": "stdout",
     "output_type": "stream",
     "text": [
      "Length distribution in Test data\n"
     ]
    },
    {
     "data": {
      "image/png": "[encoded data removed]",
      "text/plain": [
       "<Figure size 800x400 with 2 Axes>"
      ]
     },
     "metadata": {},
     "output_type": "display_data"
    }
   ],
   "source": [
    "src_length = map(len, [vars(x)['src'] for x in test_data.examples])\n",
    "trg_length = map(len, [vars(x)['trg'] for x in test_data.examples])\n",
    "\n",
    "print('Length distribution in Test data')\n",
    "plt.figure(figsize=[8, 4])\n",
    "plt.subplot(1, 2, 1)\n",
    "plt.title(\"source length\")\n",
    "plt.hist(list(src_length), bins=20);\n",
    "\n",
    "plt.subplot(1, 2, 2)\n",
    "plt.title(\"translation length\")\n",
    "plt.hist(list(trg_length), bins=20);"
   ]
  },
  {
   "cell_type": "markdown",
   "metadata": {
    "id": "sQ2_5JVX5X3t"
   },
   "source": [
    "### Model side\n",
    "__Here comes simple pipeline of NMT model learning. It almost copies the week02 practice__"
   ]
  },
  {
   "cell_type": "code",
   "execution_count": 15,
   "metadata": {
    "execution": {
     "iopub.execute_input": "2024-03-05T09:24:16.023021Z",
     "iopub.status.busy": "2024-03-05T09:24:16.022817Z",
     "iopub.status.idle": "2024-03-05T09:24:16.026583Z",
     "shell.execute_reply": "2024-03-05T09:24:16.026053Z",
     "shell.execute_reply.started": "2024-03-05T09:24:16.022998Z"
    },
    "id": "UehB1dvv5X3t"
   },
   "outputs": [],
   "source": [
    "device = torch.device('mps' if torch.backends.mps.is_available else 'cuda')\n",
    "device = torch.device('cuda' if torch.cuda.is_available() else 'cpu')"
   ]
  },
  {
   "cell_type": "code",
   "execution_count": 16,
   "metadata": {
    "execution": {
     "iopub.execute_input": "2024-03-05T09:24:16.027531Z",
     "iopub.status.busy": "2024-03-05T09:24:16.027291Z",
     "iopub.status.idle": "2024-03-05T09:24:16.035034Z",
     "shell.execute_reply": "2024-03-05T09:24:16.034490Z",
     "shell.execute_reply.started": "2024-03-05T09:24:16.027508Z"
    },
    "id": "6a_ftiAc5X3t",
    "outputId": "807578fd-007f-4237-caf4-7f5a0feeb802"
   },
   "outputs": [
    {
     "data": {
      "text/plain": [
       "device(type='cuda')"
      ]
     },
     "execution_count": 16,
     "metadata": {},
     "output_type": "execute_result"
    }
   ],
   "source": [
    "device"
   ]
  },
  {
   "cell_type": "code",
   "execution_count": 17,
   "metadata": {
    "execution": {
     "iopub.execute_input": "2024-03-05T09:24:16.035981Z",
     "iopub.status.busy": "2024-03-05T09:24:16.035741Z",
     "iopub.status.idle": "2024-03-05T09:24:16.042758Z",
     "shell.execute_reply": "2024-03-05T09:24:16.042250Z",
     "shell.execute_reply.started": "2024-03-05T09:24:16.035957Z"
    },
    "id": "_Ypx-EQB5X3t"
   },
   "outputs": [],
   "source": [
    "def _len_sort_key(x):\n",
    "    return len(x.src)\n",
    "\n",
    "BATCH_SIZE = 128\n",
    "\n",
    "train_iterator, valid_iterator, test_iterator = BucketIterator.splits(\n",
    "    (train_data, valid_data, test_data),\n",
    "    batch_size = BATCH_SIZE,\n",
    "    device = device,\n",
    "    sort_key=_len_sort_key\n",
    ")"
   ]
  },
  {
   "cell_type": "code",
   "execution_count": 18,
   "metadata": {
    "execution": {
     "iopub.execute_input": "2024-03-05T09:24:16.043702Z",
     "iopub.status.busy": "2024-03-05T09:24:16.043460Z",
     "iopub.status.idle": "2024-03-05T09:24:16.144386Z",
     "shell.execute_reply": "2024-03-05T09:24:16.143859Z",
     "shell.execute_reply.started": "2024-03-05T09:24:16.043678Z"
    },
    "id": "4qIa4dX35X3u",
    "outputId": "f376ebd6-efcb-4c70-c102-80720815be70"
   },
   "outputs": [
    {
     "name": "stdout",
     "output_type": "stream",
     "text": [
      "\n",
      "[torchtext.data.batch.Batch of size 128]\n",
      "\t[.trg]:[torch.cuda.LongTensor of size 47x128 (GPU 0)]\n",
      "\t[.src]:[torch.cuda.LongTensor of size 50x128 (GPU 0)]\n",
      "torch.Size([50, 128]) torch.Size([47, 128])\n"
     ]
    }
   ],
   "source": [
    "for x in train_iterator:\n",
    "    break\n",
    "print(x)\n",
    "print(x.src.shape, x.trg.shape)"
   ]
  },
  {
   "cell_type": "code",
   "execution_count": 19,
   "metadata": {
    "execution": {
     "iopub.execute_input": "2024-03-05T09:24:16.145374Z",
     "iopub.status.busy": "2024-03-05T09:24:16.145119Z",
     "iopub.status.idle": "2024-03-05T09:24:16.149164Z",
     "shell.execute_reply": "2024-03-05T09:24:16.148616Z",
     "shell.execute_reply.started": "2024-03-05T09:24:16.145351Z"
    },
    "id": "arXnRMtD5X3u"
   },
   "outputs": [],
   "source": [
    "import my_network\n",
    "Encoder = my_network.Encoder\n",
    "Decoder = my_network.Decoder\n",
    "Seq2Seq = my_network.Seq2Seq"
   ]
  },
  {
   "cell_type": "code",
   "execution_count": 20,
   "metadata": {
    "execution": {
     "iopub.execute_input": "2024-03-05T09:24:16.150102Z",
     "iopub.status.busy": "2024-03-05T09:24:16.149866Z",
     "iopub.status.idle": "2024-03-05T09:24:16.273611Z",
     "shell.execute_reply": "2024-03-05T09:24:16.273018Z",
     "shell.execute_reply.started": "2024-03-05T09:24:16.150078Z"
    },
    "id": "pLmSYcCY5X3u"
   },
   "outputs": [],
   "source": [
    "INPUT_DIM = len(SRC.vocab)\n",
    "OUTPUT_DIM = len(TRG.vocab)\n",
    "ENC_EMB_DIM = 256\n",
    "DEC_EMB_DIM = 256\n",
    "HID_DIM = 512\n",
    "N_LAYERS = 2\n",
    "ENC_DROPOUT = 0.5\n",
    "DEC_DROPOUT = 0.5\n",
    "\n",
    "enc = Encoder(INPUT_DIM, ENC_EMB_DIM, HID_DIM, N_LAYERS, ENC_DROPOUT)\n",
    "dec = Decoder(OUTPUT_DIM, DEC_EMB_DIM, HID_DIM, N_LAYERS, DEC_DROPOUT)\n",
    "\n",
    "# dont forget to put the model to the right device\n",
    "model = Seq2Seq(enc, dec, device).to(device)"
   ]
  },
  {
   "cell_type": "code",
   "execution_count": 21,
   "metadata": {
    "execution": {
     "iopub.execute_input": "2024-03-05T09:24:16.274618Z",
     "iopub.status.busy": "2024-03-05T09:24:16.274372Z",
     "iopub.status.idle": "2024-03-05T09:24:16.280120Z",
     "shell.execute_reply": "2024-03-05T09:24:16.279573Z",
     "shell.execute_reply.started": "2024-03-05T09:24:16.274594Z"
    },
    "id": "mx28_DhC5X3u",
    "outputId": "71dbccbb-260b-487d-9c21-aa0ecc8aa0fc"
   },
   "outputs": [
    {
     "data": {
      "text/plain": [
       "Seq2Seq(\n",
       "  (encoder): Encoder(\n",
       "    (embedding): Embedding(9208, 256)\n",
       "    (rnn): LSTM(256, 512, num_layers=2, dropout=0.5)\n",
       "    (dropout): Dropout(p=0.5, inplace=False)\n",
       "  )\n",
       "  (decoder): Decoder(\n",
       "    (embedding): Embedding(6695, 256)\n",
       "    (rnn): LSTM(256, 512, num_layers=2, dropout=0.5)\n",
       "    (out): Linear(in_features=512, out_features=6695, bias=True)\n",
       "    (dropout): Dropout(p=0.5, inplace=False)\n",
       "  )\n",
       ")"
      ]
     },
     "execution_count": 21,
     "metadata": {},
     "output_type": "execute_result"
    }
   ],
   "source": [
    "def init_weights(m):\n",
    "    # <YOUR CODE HERE>\n",
    "    for name, param in m.named_parameters():\n",
    "        nn.init.uniform_(param, -0.08, 0.08)\n",
    "\n",
    "model.apply(init_weights)"
   ]
  },
  {
   "cell_type": "code",
   "execution_count": 22,
   "metadata": {
    "execution": {
     "iopub.execute_input": "2024-03-05T09:24:16.281087Z",
     "iopub.status.busy": "2024-03-05T09:24:16.280847Z",
     "iopub.status.idle": "2024-03-05T09:24:16.286230Z",
     "shell.execute_reply": "2024-03-05T09:24:16.285726Z",
     "shell.execute_reply.started": "2024-03-05T09:24:16.281063Z"
    },
    "id": "TOFx0cFT5X3u",
    "outputId": "6e87f8b5-1532-423d-8cf2-7a2de6597e87"
   },
   "outputs": [
    {
     "name": "stdout",
     "output_type": "stream",
     "text": [
      "The model has 14,862,119 trainable parameters\n"
     ]
    }
   ],
   "source": [
    "def count_parameters(model):\n",
    "    return sum(p.numel() for p in model.parameters() if p.requires_grad)\n",
    "\n",
    "print(f'The model has {count_parameters(model):,} trainable parameters')"
   ]
  },
  {
   "cell_type": "code",
   "execution_count": 23,
   "metadata": {
    "execution": {
     "iopub.execute_input": "2024-03-05T09:24:16.287182Z",
     "iopub.status.busy": "2024-03-05T09:24:16.286943Z",
     "iopub.status.idle": "2024-03-05T09:24:16.652363Z",
     "shell.execute_reply": "2024-03-05T09:24:16.651806Z",
     "shell.execute_reply.started": "2024-03-05T09:24:16.287159Z"
    },
    "id": "QAMgluTT5X3u"
   },
   "outputs": [],
   "source": [
    "PAD_IDX = TRG.vocab.stoi['<pad>']\n",
    "optimizer = optim.Adam(model.parameters())\n",
    "criterion = nn.CrossEntropyLoss(ignore_index = PAD_IDX)"
   ]
  },
  {
   "cell_type": "code",
   "execution_count": 24,
   "metadata": {
    "execution": {
     "iopub.execute_input": "2024-03-05T09:24:16.653483Z",
     "iopub.status.busy": "2024-03-05T09:24:16.653154Z",
     "iopub.status.idle": "2024-03-05T09:24:16.659712Z",
     "shell.execute_reply": "2024-03-05T09:24:16.659145Z",
     "shell.execute_reply.started": "2024-03-05T09:24:16.653459Z"
    },
    "id": "eN4l2xZl5X3u"
   },
   "outputs": [],
   "source": [
    "def train(model, iterator, optimizer, criterion, clip, train_history=None, valid_history=None):\n",
    "    model.train()\n",
    "\n",
    "    epoch_loss = 0\n",
    "    history = []\n",
    "    for i, batch in enumerate(iterator):\n",
    "\n",
    "        src = batch.src\n",
    "        trg = batch.trg\n",
    "\n",
    "        optimizer.zero_grad()\n",
    "\n",
    "        output = model(src, trg)\n",
    "\n",
    "        #trg = [trg sent len, batch size]\n",
    "        #output = [trg sent len, batch size, output dim]\n",
    "\n",
    "        output = output[1:].view(-1, output.shape[-1])\n",
    "        trg = trg[1:].view(-1)\n",
    "\n",
    "        #trg = [(trg sent len - 1) * batch size]\n",
    "        #output = [(trg sent len - 1) * batch size, output dim]\n",
    "\n",
    "        loss = criterion(output, trg)\n",
    "\n",
    "        loss.backward()\n",
    "\n",
    "        # Let's clip the gradient\n",
    "        torch.nn.utils.clip_grad_norm_(model.parameters(), clip)\n",
    "\n",
    "        optimizer.step()\n",
    "\n",
    "        epoch_loss += loss.item()\n",
    "\n",
    "        history.append(loss.cpu().data.numpy())\n",
    "        if (i+1)%10==0:\n",
    "            fig, ax = plt.subplots(nrows=1, ncols=2, figsize=(12, 8))\n",
    "\n",
    "            clear_output(True)\n",
    "            ax[0].plot(history, label='train loss')\n",
    "            ax[0].set_xlabel('Batch')\n",
    "            ax[0].set_title('Train loss')\n",
    "            if train_history is not None:\n",
    "                ax[1].plot(train_history, label='general train history')\n",
    "                ax[1].set_xlabel('Epoch')\n",
    "            if valid_history is not None:\n",
    "                ax[1].plot(valid_history, label='general valid history')\n",
    "            plt.legend()\n",
    "\n",
    "            plt.show()\n",
    "\n",
    "\n",
    "    return epoch_loss / len(iterator)"
   ]
  },
  {
   "cell_type": "code",
   "execution_count": 25,
   "metadata": {
    "execution": {
     "iopub.execute_input": "2024-03-05T09:24:16.660691Z",
     "iopub.status.busy": "2024-03-05T09:24:16.660447Z",
     "iopub.status.idle": "2024-03-05T09:24:16.670163Z",
     "shell.execute_reply": "2024-03-05T09:24:16.669574Z",
     "shell.execute_reply.started": "2024-03-05T09:24:16.660667Z"
    },
    "id": "h3vj5LiB5X3u"
   },
   "outputs": [],
   "source": [
    "def evaluate(model, iterator, criterion):\n",
    "\n",
    "    model.eval()\n",
    "\n",
    "    epoch_loss = 0\n",
    "\n",
    "    history = []\n",
    "\n",
    "    with torch.no_grad():\n",
    "\n",
    "        for i, batch in enumerate(iterator):\n",
    "\n",
    "            src = batch.src\n",
    "            trg = batch.trg\n",
    "\n",
    "            output = model(src, trg, 0) #turn off teacher forcing\n",
    "\n",
    "            #trg = [trg sent len, batch size]\n",
    "            #output = [trg sent len, batch size, output dim]\n",
    "\n",
    "            output = output[1:].view(-1, output.shape[-1])\n",
    "            trg = trg[1:].view(-1)\n",
    "\n",
    "            #trg = [(trg sent len - 1) * batch size]\n",
    "            #output = [(trg sent len - 1) * batch size, output dim]\n",
    "\n",
    "            loss = criterion(output, trg)\n",
    "\n",
    "            epoch_loss += loss.item()\n",
    "\n",
    "    return epoch_loss / len(iterator)"
   ]
  },
  {
   "cell_type": "code",
   "execution_count": 26,
   "metadata": {
    "execution": {
     "iopub.execute_input": "2024-03-05T09:24:16.670889Z",
     "iopub.status.busy": "2024-03-05T09:24:16.670745Z",
     "iopub.status.idle": "2024-03-05T09:24:16.680150Z",
     "shell.execute_reply": "2024-03-05T09:24:16.679622Z",
     "shell.execute_reply.started": "2024-03-05T09:24:16.670874Z"
    },
    "id": "cI8vToS55X3x"
   },
   "outputs": [],
   "source": [
    "def epoch_time(start_time, end_time):\n",
    "    elapsed_time = end_time - start_time\n",
    "    elapsed_mins = int(elapsed_time / 60)\n",
    "    elapsed_secs = int(elapsed_time - (elapsed_mins * 60))\n",
    "    return elapsed_mins, elapsed_secs"
   ]
  },
  {
   "cell_type": "code",
   "execution_count": 27,
   "metadata": {
    "execution": {
     "iopub.execute_input": "2024-03-05T09:24:16.680717Z",
     "iopub.status.busy": "2024-03-05T09:24:16.680580Z",
     "iopub.status.idle": "2024-03-05T09:24:16.688297Z",
     "shell.execute_reply": "2024-03-05T09:24:16.687562Z",
     "shell.execute_reply.started": "2024-03-05T09:24:16.680703Z"
    },
    "id": "fJniU2JM5X3y"
   },
   "outputs": [],
   "source": [
    "train_history = []\n",
    "valid_history = []\n",
    "\n",
    "N_EPOCHS = 10\n",
    "CLIP = 1\n",
    "\n",
    "best_valid_loss = float('inf')"
   ]
  },
  {
   "cell_type": "code",
   "execution_count": 28,
   "metadata": {
    "execution": {
     "iopub.execute_input": "2024-03-05T09:24:16.688909Z",
     "iopub.status.busy": "2024-03-05T09:24:16.688771Z",
     "iopub.status.idle": "2024-03-05T09:24:16.889625Z",
     "shell.execute_reply": "2024-03-05T09:24:16.889049Z",
     "shell.execute_reply.started": "2024-03-05T09:24:16.688894Z"
    }
   },
   "outputs": [
    {
     "data": {
      "text/plain": [
       "8157"
      ]
     },
     "execution_count": 28,
     "metadata": {},
     "output_type": "execute_result"
    }
   ],
   "source": [
    "torch.cuda.empty_cache()\n",
    "gc.collect()"
   ]
  },
  {
   "cell_type": "code",
   "execution_count": 29,
   "metadata": {
    "execution": {
     "iopub.execute_input": "2024-03-05T09:24:16.890567Z",
     "iopub.status.busy": "2024-03-05T09:24:16.890364Z",
     "iopub.status.idle": "2024-03-05T09:24:16.897263Z",
     "shell.execute_reply": "2024-03-05T09:24:16.896860Z",
     "shell.execute_reply.started": "2024-03-05T09:24:16.890544Z"
    }
   },
   "outputs": [
    {
     "data": {
      "text/plain": [
       "device(type='cuda')"
      ]
     },
     "execution_count": 29,
     "metadata": {},
     "output_type": "execute_result"
    }
   ],
   "source": [
    "device"
   ]
  },
  {
   "cell_type": "code",
   "execution_count": 30,
   "metadata": {
    "execution": {
     "iopub.execute_input": "2024-03-05T09:24:16.897922Z",
     "iopub.status.busy": "2024-03-05T09:24:16.897781Z",
     "iopub.status.idle": "2024-03-05T09:39:50.346259Z",
     "shell.execute_reply": "2024-03-05T09:39:50.345775Z",
     "shell.execute_reply.started": "2024-03-05T09:24:16.897908Z"
    },
    "id": "HUppdQGT5X3y",
    "outputId": "1afa82e3-444a-4ccc-ea72-de374c23ef1d"
   },
   "outputs": [
    {
     "data": {
      "image/png": "[encoded data removed]",
      "text/plain": [
       "<Figure size 1200x800 with 2 Axes>"
      ]
     },
     "metadata": {},
     "output_type": "display_data"
    },
    {
     "name": "stdout",
     "output_type": "stream",
     "text": [
      "Epoch: 10 | Time: 1m 32s\n",
      "\tTrain Loss: 2.967 | Train PPL:  19.428\n",
      "\t Val. Loss: 4.712 |  Val. PPL: 111.293\n"
     ]
    }
   ],
   "source": [
    "for epoch in range(N_EPOCHS):\n",
    "\n",
    "    start_time = time.time()\n",
    "\n",
    "    train_loss = train(model, train_iterator, optimizer, criterion, CLIP, train_history, valid_history)\n",
    "    valid_loss = evaluate(model, valid_iterator, criterion)\n",
    "\n",
    "    end_time = time.time()\n",
    "\n",
    "    epoch_mins, epoch_secs = epoch_time(start_time, end_time)\n",
    "\n",
    "    if valid_loss < best_valid_loss:\n",
    "        best_valid_loss = valid_loss\n",
    "        torch.save(model.state_dict(), 'tut1-model.pt')\n",
    "\n",
    "    train_history.append(train_loss)\n",
    "    valid_history.append(valid_loss)\n",
    "    print(f'Epoch: {epoch+1:02} | Time: {epoch_mins}m {epoch_secs}s')\n",
    "    print(f'\\tTrain Loss: {train_loss:.3f} | Train PPL: {math.exp(train_loss):7.3f}')\n",
    "    print(f'\\t Val. Loss: {valid_loss:.3f} |  Val. PPL: {math.exp(valid_loss):7.3f}')"
   ]
  },
  {
   "cell_type": "markdown",
   "metadata": {},
   "source": [
    "Обучение заняло 15 минут"
   ]
  },
  {
   "cell_type": "markdown",
   "metadata": {
    "id": "5WDU5eQ75X3y"
   },
   "source": [
    "__Let's take a look at our network quality__:"
   ]
  },
  {
   "cell_type": "code",
   "execution_count": 31,
   "metadata": {
    "execution": {
     "iopub.execute_input": "2024-03-05T09:39:50.347027Z",
     "iopub.status.busy": "2024-03-05T09:39:50.346843Z",
     "iopub.status.idle": "2024-03-05T09:39:50.349472Z",
     "shell.execute_reply": "2024-03-05T09:39:50.349041Z",
     "shell.execute_reply.started": "2024-03-05T09:39:50.347011Z"
    },
    "id": "cOTL-zv15X3y"
   },
   "outputs": [],
   "source": [
    "# del utils"
   ]
  },
  {
   "cell_type": "code",
   "execution_count": 32,
   "metadata": {
    "execution": {
     "iopub.execute_input": "2024-03-05T09:39:50.350277Z",
     "iopub.status.busy": "2024-03-05T09:39:50.350062Z",
     "iopub.status.idle": "2024-03-05T09:39:50.357598Z",
     "shell.execute_reply": "2024-03-05T09:39:50.357115Z",
     "shell.execute_reply.started": "2024-03-05T09:39:50.350256Z"
    },
    "id": "M0OKfJS05X3y"
   },
   "outputs": [
    {
     "name": "stderr",
     "output_type": "stream",
     "text": [
      "/tmp/ipykernel_6713/3680124227.py:2: DeprecationWarning: the imp module is deprecated in favour of importlib and slated for removal in Python 3.12; see the module's documentation for alternative uses\n",
      "  import imp\n"
     ]
    }
   ],
   "source": [
    "import utils\n",
    "import imp\n",
    "imp.reload(utils)\n",
    "generate_translation = utils.generate_translation\n",
    "remove_tech_tokens = utils.remove_tech_tokens\n",
    "get_text = utils.get_text\n",
    "flatten = utils.flatten"
   ]
  },
  {
   "cell_type": "code",
   "execution_count": 33,
   "metadata": {
    "execution": {
     "iopub.execute_input": "2024-03-05T09:39:50.358414Z",
     "iopub.status.busy": "2024-03-05T09:39:50.358200Z",
     "iopub.status.idle": "2024-03-05T09:39:50.371161Z",
     "shell.execute_reply": "2024-03-05T09:39:50.370556Z",
     "shell.execute_reply.started": "2024-03-05T09:39:50.358395Z"
    },
    "id": "S8SYGrQq5X3y"
   },
   "outputs": [],
   "source": [
    "batch = next(iter(test_iterator))"
   ]
  },
  {
   "cell_type": "code",
   "execution_count": 34,
   "metadata": {
    "execution": {
     "iopub.execute_input": "2024-03-05T09:39:50.371969Z",
     "iopub.status.busy": "2024-03-05T09:39:50.371737Z",
     "iopub.status.idle": "2024-03-05T09:39:50.401690Z",
     "shell.execute_reply": "2024-03-05T09:39:50.401102Z",
     "shell.execute_reply.started": "2024-03-05T09:39:50.371950Z"
    },
    "id": "xlcz-CRJ5X3y",
    "outputId": "f4eae206-5f9c-4762-b494-22355e8cb326"
   },
   "outputs": [
    {
     "name": "stdout",
     "output_type": "stream",
     "text": [
      "Original: a tv is offered .\n",
      "Generated: the living room is a .\n",
      "\n",
      "Original: there is the on - site bar at the property .\n",
      "Generated: guests can enjoy a meal at the bar .\n",
      "\n"
     ]
    }
   ],
   "source": [
    "for idx in [1,2]:\n",
    "    src = batch.src[:, idx:idx+1]\n",
    "    trg = batch.trg[:, idx:idx+1]\n",
    "    generate_translation(src, trg, model, TRG.vocab)"
   ]
  },
  {
   "cell_type": "code",
   "execution_count": 35,
   "metadata": {
    "execution": {
     "iopub.execute_input": "2024-03-05T09:39:50.402786Z",
     "iopub.status.busy": "2024-03-05T09:39:50.402581Z",
     "iopub.status.idle": "2024-03-05T09:39:50.405176Z",
     "shell.execute_reply": "2024-03-05T09:39:50.404688Z",
     "shell.execute_reply.started": "2024-03-05T09:39:50.402770Z"
    },
    "id": "oVKMRVa85X3y"
   },
   "outputs": [],
   "source": [
    "from nltk.translate.bleu_score import corpus_bleu\n",
    "\n",
    "#     \"\"\" Estimates corpora-level BLEU score of model's translations given inp and reference out \"\"\"\n",
    "#     translations, _ = model.translate_lines(inp_lines, **flags)\n",
    "#     # Note: if you experience out-of-memory error, split input lines into batches and translate separately\n",
    "#     return corpus_bleu([[ref] for ref in out_lines], translations) * 100"
   ]
  },
  {
   "cell_type": "code",
   "execution_count": 36,
   "metadata": {
    "execution": {
     "iopub.execute_input": "2024-03-05T09:39:50.405992Z",
     "iopub.status.busy": "2024-03-05T09:39:50.405811Z",
     "iopub.status.idle": "2024-03-05T09:39:53.592820Z",
     "shell.execute_reply": "2024-03-05T09:39:53.592383Z",
     "shell.execute_reply.started": "2024-03-05T09:39:50.405972Z"
    },
    "id": "OpJHC6Kn5X3y",
    "outputId": "16b1e810-83a5-49a4-c20e-3d14b0aebce2"
   },
   "outputs": [
    {
     "name": "stderr",
     "output_type": "stream",
     "text": [
      "59it [00:03, 18.57it/s]\n"
     ]
    }
   ],
   "source": [
    "original_text = []\n",
    "generated_text = []\n",
    "model.eval()\n",
    "with torch.no_grad():\n",
    "\n",
    "    for i, batch in tqdm.tqdm(enumerate(test_iterator)):\n",
    "\n",
    "        src = batch.src\n",
    "        trg = batch.trg\n",
    "\n",
    "        output = model(src, trg, 0) #turn off teacher forcing\n",
    "\n",
    "        #trg = [trg sent len, batch size]\n",
    "        #output = [trg sent len, batch size, output dim]\n",
    "\n",
    "        output = output.argmax(dim=-1)\n",
    "\n",
    "        original_text.extend([get_text(x, TRG.vocab) for x in trg.cpu().numpy().T])\n",
    "        generated_text.extend([get_text(x, TRG.vocab) for x in output[1:].detach().cpu().numpy().T])\n",
    "\n",
    "# original_text = flatten(original_text)\n",
    "# generated_text = flatten(generated_text)"
   ]
  },
  {
   "cell_type": "code",
   "execution_count": 37,
   "metadata": {
    "execution": {
     "iopub.execute_input": "2024-03-05T09:39:53.593583Z",
     "iopub.status.busy": "2024-03-05T09:39:53.593393Z",
     "iopub.status.idle": "2024-03-05T09:39:54.228829Z",
     "shell.execute_reply": "2024-03-05T09:39:54.228250Z",
     "shell.execute_reply.started": "2024-03-05T09:39:53.593567Z"
    },
    "id": "lG_rvxZj5X3y",
    "outputId": "0d8ab766-e4b1-4faf-db04-3cd354764939"
   },
   "outputs": [
    {
     "data": {
      "text/plain": [
       "13.746074413191053"
      ]
     },
     "execution_count": 37,
     "metadata": {},
     "output_type": "execute_result"
    }
   ],
   "source": [
    "corpus_bleu([[text] for text in original_text], generated_text) * 100"
   ]
  },
  {
   "cell_type": "markdown",
   "metadata": {},
   "source": [
    "### BPE"
   ]
  },
  {
   "cell_type": "code",
   "execution_count": 38,
   "metadata": {
    "execution": {
     "iopub.execute_input": "2024-03-05T09:39:54.229551Z",
     "iopub.status.busy": "2024-03-05T09:39:54.229364Z",
     "iopub.status.idle": "2024-03-05T09:39:54.239510Z",
     "shell.execute_reply": "2024-03-05T09:39:54.238907Z",
     "shell.execute_reply.started": "2024-03-05T09:39:54.229526Z"
    }
   },
   "outputs": [
    {
     "data": {
      "text/plain": [
       "<module 'bpe_model' from '/home/alexansemyachkin/Desktop/jupyter/sanek/bpe_model.py'>"
      ]
     },
     "execution_count": 38,
     "metadata": {},
     "output_type": "execute_result"
    }
   ],
   "source": [
    "from tokenizers import Tokenizer\n",
    "from tokenizers.models import BPE\n",
    "from tokenizers.normalizers import Lowercase\n",
    "from tokenizers.pre_tokenizers import Whitespace\n",
    "from tokenizers.trainers import BpeTrainer\n",
    "\n",
    "from nltk.translate.bleu_score import corpus_bleu\n",
    "\n",
    "from tqdm import tqdm\n",
    "\n",
    "import bpe_model\n",
    "imp.reload(bpe_model)"
   ]
  },
  {
   "cell_type": "code",
   "execution_count": 39,
   "metadata": {
    "execution": {
     "iopub.execute_input": "2024-03-05T09:39:54.243981Z",
     "iopub.status.busy": "2024-03-05T09:39:54.243753Z",
     "iopub.status.idle": "2024-03-05T09:39:54.246692Z",
     "shell.execute_reply": "2024-03-05T09:39:54.246251Z",
     "shell.execute_reply.started": "2024-03-05T09:39:54.243965Z"
    }
   },
   "outputs": [],
   "source": [
    "os.makedirs('./bpe', exist_ok=True)"
   ]
  },
  {
   "cell_type": "markdown",
   "metadata": {},
   "source": [
    "Разделяем на русский и английский языки"
   ]
  },
  {
   "cell_type": "code",
   "execution_count": 40,
   "metadata": {
    "execution": {
     "iopub.execute_input": "2024-03-05T09:39:54.248820Z",
     "iopub.status.busy": "2024-03-05T09:39:54.248648Z",
     "iopub.status.idle": "2024-03-05T09:39:54.388489Z",
     "shell.execute_reply": "2024-03-05T09:39:54.387956Z",
     "shell.execute_reply.started": "2024-03-05T09:39:54.248805Z"
    }
   },
   "outputs": [],
   "source": [
    "with open('./bpe/data_ru.txt', 'w+') as f_src, open('./bpe/data_en.txt', 'w+') as f_trg:\n",
    "    for line in open('data.txt'):\n",
    "        trg_line, src_line = line.strip().split('\\t')\n",
    "        f_src.write(src_line + '\\n')\n",
    "        f_trg.write(trg_line + '\\n')"
   ]
  },
  {
   "cell_type": "markdown",
   "metadata": {
    "execution": {
     "iopub.execute_input": "2024-02-29T12:31:22.574981Z",
     "iopub.status.busy": "2024-02-29T12:31:22.574631Z",
     "iopub.status.idle": "2024-02-29T12:31:22.579195Z",
     "shell.execute_reply": "2024-02-29T12:31:22.578323Z",
     "shell.execute_reply.started": "2024-02-29T12:31:22.574957Z"
    }
   },
   "source": [
    "Обучаем BPE"
   ]
  },
  {
   "cell_type": "code",
   "execution_count": 41,
   "metadata": {
    "execution": {
     "iopub.execute_input": "2024-03-05T09:39:54.389198Z",
     "iopub.status.busy": "2024-03-05T09:39:54.389041Z",
     "iopub.status.idle": "2024-03-05T09:39:55.827434Z",
     "shell.execute_reply": "2024-03-05T09:39:55.826862Z",
     "shell.execute_reply.started": "2024-03-05T09:39:54.389183Z"
    }
   },
   "outputs": [
    {
     "name": "stdout",
     "output_type": "stream",
     "text": [
      "\n",
      "\n",
      "\n",
      "\n",
      "\n",
      "\n"
     ]
    }
   ],
   "source": [
    "tokenizers = {}\n",
    "for lang in ['ru', 'en']:\n",
    "    tokenizer = Tokenizer(BPE(unk_token='<unk>'))\n",
    "    tokenizer.normalizer = Lowercase()\n",
    "    tokenizer.pre_tokenizer = Whitespace()\n",
    "    trainer = BpeTrainer(special_tokens=['<unk>', '<pad>', '<sos>', '<eos>'], min_frequency=3, vocab_size=21000)\n",
    "    file = ['./bpe/data_' + lang + '.txt']\n",
    "    tokenizer.train(file, trainer)\n",
    "    tokenizer.save('./bpe/trained_tokenizer_' + lang + '.json')\n",
    "    tokenizers[lang] = tokenizer"
   ]
  },
  {
   "cell_type": "markdown",
   "metadata": {
    "execution": {
     "iopub.execute_input": "2024-03-02T15:00:06.649866Z",
     "iopub.status.busy": "2024-03-02T15:00:06.649714Z",
     "iopub.status.idle": "2024-03-02T15:00:06.655083Z",
     "shell.execute_reply": "2024-03-02T15:00:06.654561Z",
     "shell.execute_reply.started": "2024-03-02T15:00:06.649851Z"
    }
   },
   "source": [
    "Далее повторение пайплайна бэйзлайна"
   ]
  },
  {
   "cell_type": "code",
   "execution_count": 42,
   "metadata": {
    "execution": {
     "iopub.execute_input": "2024-03-05T09:39:55.828697Z",
     "iopub.status.busy": "2024-03-05T09:39:55.828459Z",
     "iopub.status.idle": "2024-03-05T09:39:55.831979Z",
     "shell.execute_reply": "2024-03-05T09:39:55.831478Z",
     "shell.execute_reply.started": "2024-03-05T09:39:55.828673Z"
    }
   },
   "outputs": [],
   "source": [
    "ind_tokenizers = {\n",
    "    'ru': lambda input: tokenizers['ru'].encode(input).ids,\n",
    "    'en': lambda input: tokenizers['en'].encode(input).ids\n",
    "}\n",
    "\n",
    "ind_paddings = {\n",
    "    'ru': tokenizers['ru'].token_to_id('<pad>'),\n",
    "    'en': tokenizers['en'].token_to_id('<pad>')\n",
    "\n",
    "}"
   ]
  },
  {
   "cell_type": "code",
   "execution_count": 43,
   "metadata": {
    "execution": {
     "iopub.execute_input": "2024-03-05T09:39:55.832883Z",
     "iopub.status.busy": "2024-03-05T09:39:55.832650Z",
     "iopub.status.idle": "2024-03-05T09:39:59.944236Z",
     "shell.execute_reply": "2024-03-05T09:39:59.943486Z",
     "shell.execute_reply.started": "2024-03-05T09:39:55.832860Z"
    }
   },
   "outputs": [],
   "source": [
    "SRC = Field(tokenize=ind_tokenizers['ru'],\n",
    "            use_vocab=False,\n",
    "            pad_token=ind_paddings['ru'],\n",
    "            batch_first=True)\n",
    "\n",
    "TRG = Field(tokenize=ind_tokenizers['en'],\n",
    "            use_vocab=False,\n",
    "            pad_token=ind_paddings['en'],\n",
    "            batch_first=True)\n",
    "\n",
    "dataset = torchtext.data.TabularDataset(\n",
    "    path=path_do_data,\n",
    "    format='tsv',\n",
    "    fields=[('trg', TRG), ('src', SRC)]\n",
    ")"
   ]
  },
  {
   "cell_type": "code",
   "execution_count": 44,
   "metadata": {
    "execution": {
     "iopub.execute_input": "2024-03-05T09:39:59.944943Z",
     "iopub.status.busy": "2024-03-05T09:39:59.944786Z",
     "iopub.status.idle": "2024-03-05T09:39:59.969417Z",
     "shell.execute_reply": "2024-03-05T09:39:59.968829Z",
     "shell.execute_reply.started": "2024-03-05T09:39:59.944927Z"
    }
   },
   "outputs": [],
   "source": [
    "train_data, valid_data, test_data = dataset.split(split_ratio=[0.8, 0.15, 0.05])"
   ]
  },
  {
   "cell_type": "code",
   "execution_count": 45,
   "metadata": {
    "execution": {
     "iopub.execute_input": "2024-03-05T09:39:59.970287Z",
     "iopub.status.busy": "2024-03-05T09:39:59.970089Z",
     "iopub.status.idle": "2024-03-05T09:39:59.977674Z",
     "shell.execute_reply": "2024-03-05T09:39:59.977068Z",
     "shell.execute_reply.started": "2024-03-05T09:39:59.970264Z"
    }
   },
   "outputs": [],
   "source": [
    "BATCH_SIZE = 64\n",
    "\n",
    "train_iterator, valid_iterator, test_iterator = BucketIterator.splits(\n",
    "    (train_data, valid_data, test_data),\n",
    "    batch_size = BATCH_SIZE,\n",
    "    device = device,\n",
    "    sort_key=lambda x: len(x.src)\n",
    ")"
   ]
  },
  {
   "cell_type": "code",
   "execution_count": 46,
   "metadata": {
    "execution": {
     "iopub.execute_input": "2024-03-05T09:39:59.978448Z",
     "iopub.status.busy": "2024-03-05T09:39:59.978258Z",
     "iopub.status.idle": "2024-03-05T09:40:00.053619Z",
     "shell.execute_reply": "2024-03-05T09:40:00.053092Z",
     "shell.execute_reply.started": "2024-03-05T09:39:59.978433Z"
    }
   },
   "outputs": [
    {
     "name": "stdout",
     "output_type": "stream",
     "text": [
      "\n",
      "[torchtext.data.batch.Batch of size 64]\n",
      "\t[.trg]:[torch.cuda.LongTensor of size 64x37 (GPU 0)]\n",
      "\t[.src]:[torch.cuda.LongTensor of size 64x40 (GPU 0)]\n",
      "torch.Size([64, 40]) torch.Size([64, 37])\n"
     ]
    }
   ],
   "source": [
    "for x in train_iterator:\n",
    "    break\n",
    "print(x)\n",
    "print(x.src.shape, x.trg.shape)"
   ]
  },
  {
   "cell_type": "code",
   "execution_count": 47,
   "metadata": {
    "execution": {
     "iopub.execute_input": "2024-03-05T09:40:00.054248Z",
     "iopub.status.busy": "2024-03-05T09:40:00.054106Z",
     "iopub.status.idle": "2024-03-05T09:40:00.061222Z",
     "shell.execute_reply": "2024-03-05T09:40:00.060819Z",
     "shell.execute_reply.started": "2024-03-05T09:40:00.054233Z"
    }
   },
   "outputs": [],
   "source": [
    "INPUT_DIM = tokenizers['ru'].get_vocab_size()\n",
    "OUTPUT_DIM = tokenizers['en'].get_vocab_size()\n",
    "ENC_EMB_DIM = 256\n",
    "DEC_EMB_DIM = 256\n",
    "HID_DIM = 512\n",
    "N_LAYERS = 2\n",
    "ENC_DROPOUT = 0.5\n",
    "DEC_DROPOUT = 0.5\n",
    "\n",
    "\n",
    "N_EPOCHS = 10\n",
    "CLIP = 1"
   ]
  },
  {
   "cell_type": "code",
   "execution_count": 48,
   "metadata": {
    "execution": {
     "iopub.execute_input": "2024-03-05T09:40:00.061943Z",
     "iopub.status.busy": "2024-03-05T09:40:00.061755Z",
     "iopub.status.idle": "2024-03-05T09:40:00.068963Z",
     "shell.execute_reply": "2024-03-05T09:40:00.068401Z",
     "shell.execute_reply.started": "2024-03-05T09:40:00.061927Z"
    }
   },
   "outputs": [],
   "source": [
    "def init_weights(m):\n",
    "    for name, param in m.named_parameters():\n",
    "        nn.init.uniform_(param, -0.08, 0.08)\n",
    "\n",
    "def count_parameters(model):\n",
    "    return sum(p.numel() for p in model.parameters() if p.requires_grad)"
   ]
  },
  {
   "cell_type": "code",
   "execution_count": 50,
   "metadata": {
    "execution": {
     "iopub.execute_input": "2024-03-05T09:40:00.079731Z",
     "iopub.status.busy": "2024-03-05T09:40:00.079521Z",
     "iopub.status.idle": "2024-03-05T09:40:00.085538Z",
     "shell.execute_reply": "2024-03-05T09:40:00.085023Z",
     "shell.execute_reply.started": "2024-03-05T09:40:00.079716Z"
    }
   },
   "outputs": [],
   "source": [
    "Encoder = bpe_model.Encoder\n",
    "Decoder = bpe_model.Decoder\n",
    "Seq2Seq = bpe_model.Seq2Seq"
   ]
  },
  {
   "cell_type": "code",
   "execution_count": 51,
   "metadata": {
    "execution": {
     "iopub.execute_input": "2024-03-05T09:40:00.086124Z",
     "iopub.status.busy": "2024-03-05T09:40:00.085981Z",
     "iopub.status.idle": "2024-03-05T09:40:00.249184Z",
     "shell.execute_reply": "2024-03-05T09:40:00.248638Z",
     "shell.execute_reply.started": "2024-03-05T09:40:00.086109Z"
    }
   },
   "outputs": [
    {
     "data": {
      "text/plain": [
       "Seq2Seq(\n",
       "  (encoder): Encoder(\n",
       "    (embedding): Embedding(21000, 256)\n",
       "    (rnn): LSTM(256, 512, num_layers=2, batch_first=True, dropout=0.5)\n",
       "    (dropout): Dropout(p=0.5, inplace=False)\n",
       "  )\n",
       "  (decoder): Decoder(\n",
       "    (embedding): Embedding(14770, 256)\n",
       "    (rnn): LSTM(256, 512, num_layers=2, batch_first=True, dropout=0.5)\n",
       "    (out): Linear(in_features=512, out_features=14770, bias=True)\n",
       "    (dropout): Dropout(p=0.5, inplace=False)\n",
       "  )\n",
       ")"
      ]
     },
     "execution_count": 51,
     "metadata": {},
     "output_type": "execute_result"
    }
   ],
   "source": [
    "enc = Encoder(INPUT_DIM, ENC_EMB_DIM, HID_DIM, N_LAYERS, ENC_DROPOUT)\n",
    "dec = Decoder(OUTPUT_DIM, DEC_EMB_DIM, HID_DIM, N_LAYERS, DEC_DROPOUT)\n",
    "\n",
    "model = Seq2Seq(enc, dec, device).to(device)\n",
    "\n",
    "model.apply(init_weights)"
   ]
  },
  {
   "cell_type": "code",
   "execution_count": 52,
   "metadata": {
    "execution": {
     "iopub.execute_input": "2024-03-05T09:40:00.249905Z",
     "iopub.status.busy": "2024-03-05T09:40:00.249715Z",
     "iopub.status.idle": "2024-03-05T09:40:00.252904Z",
     "shell.execute_reply": "2024-03-05T09:40:00.252409Z",
     "shell.execute_reply.started": "2024-03-05T09:40:00.249890Z"
    }
   },
   "outputs": [
    {
     "name": "stdout",
     "output_type": "stream",
     "text": [
      "The model has 24,090,546 trainable parameters\n"
     ]
    }
   ],
   "source": [
    "print(f'The model has {count_parameters(model):,} trainable parameters')"
   ]
  },
  {
   "cell_type": "code",
   "execution_count": 53,
   "metadata": {
    "execution": {
     "iopub.execute_input": "2024-03-05T09:40:00.253739Z",
     "iopub.status.busy": "2024-03-05T09:40:00.253511Z",
     "iopub.status.idle": "2024-03-05T09:40:00.260753Z",
     "shell.execute_reply": "2024-03-05T09:40:00.260114Z",
     "shell.execute_reply.started": "2024-03-05T09:40:00.253723Z"
    }
   },
   "outputs": [],
   "source": [
    "PAD_IDX = tokenizers['ru'].token_to_id('<pad>')\n",
    "optimizer = optim.Adam(model.parameters())\n",
    "criterion = nn.CrossEntropyLoss(ignore_index = PAD_IDX)"
   ]
  },
  {
   "cell_type": "code",
   "execution_count": 54,
   "metadata": {
    "execution": {
     "iopub.execute_input": "2024-03-05T09:40:00.261425Z",
     "iopub.status.busy": "2024-03-05T09:40:00.261280Z",
     "iopub.status.idle": "2024-03-05T09:40:00.270560Z",
     "shell.execute_reply": "2024-03-05T09:40:00.270156Z",
     "shell.execute_reply.started": "2024-03-05T09:40:00.261410Z"
    }
   },
   "outputs": [],
   "source": [
    "def train_epoch(model, iterator, optimizer, criterion, clip, train_history=None, valid_history=None):\n",
    "    model.train()\n",
    "\n",
    "    epoch_loss = 0\n",
    "    history = []\n",
    "    for i, batch in enumerate(iterator):\n",
    "\n",
    "        src = batch.src\n",
    "        trg = batch.trg\n",
    "\n",
    "        optimizer.zero_grad()\n",
    "\n",
    "        output = model(src, trg)\n",
    "\n",
    "        # trg = [batch size, trg sent len]\n",
    "        # output = [batch size, trg sent len, output dim]\n",
    "\n",
    "        output = output[:, 1:].reshape(-1, output.shape[2])\n",
    "        trg = trg[:, 1:].reshape(-1)\n",
    "\n",
    "        # trg = [(trg sent len - 1) * batch size]\n",
    "        # output = [(trg sent len - 1) * batch size, output dim]\n",
    "\n",
    "        loss = criterion(output, trg)\n",
    "\n",
    "        loss.backward()\n",
    "\n",
    "        # Let's clip the gradient\n",
    "        torch.nn.utils.clip_grad_norm_(model.parameters(), clip)\n",
    "\n",
    "        optimizer.step()\n",
    "\n",
    "        epoch_loss += loss.item()\n",
    "\n",
    "        history.append(loss.cpu().data.numpy())\n",
    "        if (i+1)%10==0:\n",
    "            fig, ax = plt.subplots(nrows=1, ncols=2, figsize=(12, 8))\n",
    "\n",
    "            clear_output(True)\n",
    "            ax[0].plot(history, label='train loss')\n",
    "            ax[0].set_xlabel('Batch')\n",
    "            ax[0].set_title('Train loss')\n",
    "            if train_history is not None:\n",
    "                ax[1].plot(train_history, label='general train history')\n",
    "                ax[1].set_xlabel('Epoch')\n",
    "            if valid_history is not None:\n",
    "                ax[1].plot(valid_history, label='general valid history')\n",
    "            plt.legend()\n",
    "\n",
    "            plt.show()\n",
    "\n",
    "\n",
    "    return epoch_loss / len(iterator)"
   ]
  },
  {
   "cell_type": "code",
   "execution_count": 55,
   "metadata": {
    "execution": {
     "iopub.execute_input": "2024-03-05T09:40:00.271283Z",
     "iopub.status.busy": "2024-03-05T09:40:00.271095Z",
     "iopub.status.idle": "2024-03-05T09:40:00.280061Z",
     "shell.execute_reply": "2024-03-05T09:40:00.279493Z",
     "shell.execute_reply.started": "2024-03-05T09:40:00.271267Z"
    }
   },
   "outputs": [],
   "source": [
    "def evaluate(model, iterator, criterion):\n",
    "\n",
    "    model.eval()\n",
    "\n",
    "    epoch_loss = 0\n",
    "\n",
    "    history = []\n",
    "\n",
    "    with torch.no_grad():\n",
    "\n",
    "        for i, batch in enumerate(iterator):\n",
    "\n",
    "            src = batch.src\n",
    "            trg = batch.trg\n",
    "\n",
    "            output = model(src, trg, 0) # turn off teacher forcing\n",
    "\n",
    "            # trg = [batch size, trg sent len]\n",
    "            # output = [batch size, trg sent len, output dim]\n",
    "\n",
    "            output = output[:, 1:].reshape(-1, output.shape[2])\n",
    "            trg = trg[:, 1:].reshape(-1)\n",
    "\n",
    "            # trg = [(trg sent len - 1) * batch size]\n",
    "            # output = [(trg sent len - 1) * batch size, output dim]\n",
    "\n",
    "            loss = criterion(output, trg)\n",
    "\n",
    "            epoch_loss += loss.item()\n",
    "\n",
    "    return epoch_loss / len(iterator)"
   ]
  },
  {
   "cell_type": "code",
   "execution_count": 74,
   "metadata": {
    "execution": {
     "iopub.execute_input": "2024-03-05T22:14:48.669915Z",
     "iopub.status.busy": "2024-03-05T22:14:48.669088Z",
     "iopub.status.idle": "2024-03-05T22:14:48.676026Z",
     "shell.execute_reply": "2024-03-05T22:14:48.675565Z",
     "shell.execute_reply.started": "2024-03-05T22:14:48.669838Z"
    }
   },
   "outputs": [],
   "source": [
    "def train(model, train_iterator, valid_iterator, optimizer, criterion, CLIP, train_history, valid_history, best_valid_loss, save_path):\n",
    "    for epoch in (range(N_EPOCHS)):\n",
    "\n",
    "        start_time = time.time()\n",
    "    \n",
    "        train_loss = train_epoch(model, train_iterator, optimizer, criterion, CLIP, train_history, valid_history)\n",
    "        valid_loss = evaluate(model, valid_iterator, criterion)\n",
    "    \n",
    "        end_time = time.time()\n",
    "    \n",
    "        epoch_mins, epoch_secs = epoch_time(start_time, end_time)\n",
    "    \n",
    "        if valid_loss < best_valid_loss:\n",
    "            best_valid_loss = valid_loss\n",
    "            torch.save(model.state_dict(), save_path)\n",
    "    \n",
    "        train_history.append(train_loss)\n",
    "        valid_history.append(valid_loss)\n",
    "        print(f'Epoch: {epoch+1:02} | Time: {epoch_mins}m {epoch_secs}s')\n",
    "        print(f'\\tTrain Loss: {train_loss:.3f} | Train PPL: {math.exp(train_loss):7.3f}')\n",
    "        print(f'\\t Val. Loss: {valid_loss:.3f} |  Val. PPL: {math.exp(valid_loss):7.3f}')"
   ]
  },
  {
   "cell_type": "code",
   "execution_count": 57,
   "metadata": {
    "execution": {
     "iopub.execute_input": "2024-03-05T09:40:00.290338Z",
     "iopub.status.busy": "2024-03-05T09:40:00.290190Z",
     "iopub.status.idle": "2024-03-05T09:40:00.297949Z",
     "shell.execute_reply": "2024-03-05T09:40:00.297384Z",
     "shell.execute_reply.started": "2024-03-05T09:40:00.290323Z"
    }
   },
   "outputs": [],
   "source": [
    "def epoch_time(start_time, end_time):\n",
    "    elapsed_time = end_time - start_time\n",
    "    elapsed_mins = int(elapsed_time / 60)\n",
    "    elapsed_secs = int(elapsed_time - (elapsed_mins * 60))\n",
    "    return elapsed_mins, elapsed_secs"
   ]
  },
  {
   "cell_type": "code",
   "execution_count": 58,
   "metadata": {
    "execution": {
     "iopub.execute_input": "2024-03-05T09:40:00.298566Z",
     "iopub.status.busy": "2024-03-05T09:40:00.298419Z",
     "iopub.status.idle": "2024-03-05T09:40:00.310993Z",
     "shell.execute_reply": "2024-03-05T09:40:00.308980Z",
     "shell.execute_reply.started": "2024-03-05T09:40:00.298551Z"
    }
   },
   "outputs": [],
   "source": [
    "train_history = []\n",
    "valid_history = []\n",
    "\n",
    "best_valid_loss = float('inf')"
   ]
  },
  {
   "cell_type": "code",
   "execution_count": 59,
   "metadata": {
    "execution": {
     "iopub.execute_input": "2024-03-05T09:40:00.314731Z",
     "iopub.status.busy": "2024-03-05T09:40:00.313842Z",
     "iopub.status.idle": "2024-03-05T09:40:00.613874Z",
     "shell.execute_reply": "2024-03-05T09:40:00.613295Z",
     "shell.execute_reply.started": "2024-03-05T09:40:00.314611Z"
    }
   },
   "outputs": [
    {
     "data": {
      "text/plain": [
       "0"
      ]
     },
     "execution_count": 59,
     "metadata": {},
     "output_type": "execute_result"
    }
   ],
   "source": [
    "torch.cuda.empty_cache()\n",
    "gc.collect()"
   ]
  },
  {
   "cell_type": "code",
   "execution_count": 60,
   "metadata": {
    "execution": {
     "iopub.execute_input": "2024-03-05T09:40:00.614632Z",
     "iopub.status.busy": "2024-03-05T09:40:00.614444Z",
     "iopub.status.idle": "2024-03-05T09:40:00.622466Z",
     "shell.execute_reply": "2024-03-05T09:40:00.621994Z",
     "shell.execute_reply.started": "2024-03-05T09:40:00.614617Z"
    }
   },
   "outputs": [
    {
     "data": {
      "text/plain": [
       "device(type='cuda')"
      ]
     },
     "execution_count": 60,
     "metadata": {},
     "output_type": "execute_result"
    }
   ],
   "source": [
    "device"
   ]
  },
  {
   "cell_type": "code",
   "execution_count": 61,
   "metadata": {
    "execution": {
     "iopub.execute_input": "2024-03-05T09:40:00.623430Z",
     "iopub.status.busy": "2024-03-05T09:40:00.623053Z",
     "iopub.status.idle": "2024-03-05T10:11:25.341887Z",
     "shell.execute_reply": "2024-03-05T10:11:25.341413Z",
     "shell.execute_reply.started": "2024-03-05T09:40:00.623413Z"
    }
   },
   "outputs": [
    {
     "data": {
      "image/png": "[encoded data removed]",
      "text/plain": [
       "<Figure size 1200x800 with 2 Axes>"
      ]
     },
     "metadata": {},
     "output_type": "display_data"
    },
    {
     "name": "stdout",
     "output_type": "stream",
     "text": [
      "Epoch: 10 | Time: 3m 8s\n",
      "\tTrain Loss: 3.029 | Train PPL:  20.682\n",
      "\t Val. Loss: 4.790 |  Val. PPL: 120.283\n"
     ]
    }
   ],
   "source": [
    "train(model, train_iterator, valid_iterator, optimizer, criterion, CLIP, train_history, valid_history, best_valid_loss, 'bpe_model.pt')"
   ]
  },
  {
   "cell_type": "markdown",
   "metadata": {},
   "source": [
    "Обучение заняло 30 минут"
   ]
  },
  {
   "cell_type": "code",
   "execution_count": 62,
   "metadata": {
    "execution": {
     "iopub.execute_input": "2024-03-05T10:11:25.342773Z",
     "iopub.status.busy": "2024-03-05T10:11:25.342486Z",
     "iopub.status.idle": "2024-03-05T10:11:31.728279Z",
     "shell.execute_reply": "2024-03-05T10:11:31.727786Z",
     "shell.execute_reply.started": "2024-03-05T10:11:25.342757Z"
    }
   },
   "outputs": [
    {
     "name": "stderr",
     "output_type": "stream",
     "text": [
      "118it [00:06, 18.50it/s]\n"
     ]
    }
   ],
   "source": [
    "original_text = []\n",
    "generated_text = []\n",
    "with torch.no_grad():\n",
    "\n",
    "    for i, batch in tqdm(enumerate(test_iterator)):\n",
    "\n",
    "        src = batch.src\n",
    "        trg = batch.trg\n",
    "\n",
    "        output = model(src, trg, 0) # turn off teacher forcing\n",
    "\n",
    "        # trg = [batch size, trg sent len]\n",
    "        # output = [batch size, trg sent len, output dim]\n",
    "\n",
    "        output = output.argmax(dim=-1)\n",
    "\n",
    "        original_text.extend(tokenizers['en'].decode_batch(trg.cpu().tolist()))\n",
    "        generated_text.extend(tokenizers['en'].decode_batch(output[:, 1:].detach().cpu().tolist()))"
   ]
  },
  {
   "cell_type": "code",
   "execution_count": 63,
   "metadata": {
    "execution": {
     "iopub.execute_input": "2024-03-05T10:11:31.729240Z",
     "iopub.status.busy": "2024-03-05T10:11:31.728973Z",
     "iopub.status.idle": "2024-03-05T10:11:33.053638Z",
     "shell.execute_reply": "2024-03-05T10:11:33.053107Z",
     "shell.execute_reply.started": "2024-03-05T10:11:31.729217Z"
    }
   },
   "outputs": [
    {
     "data": {
      "text/plain": [
       "42.02638453590985"
      ]
     },
     "execution_count": 63,
     "metadata": {},
     "output_type": "execute_result"
    }
   ],
   "source": [
    "corpus_bleu([[text] for text in original_text], generated_text) * 100"
   ]
  },
  {
   "cell_type": "code",
   "execution_count": 64,
   "metadata": {
    "execution": {
     "iopub.execute_input": "2024-03-05T10:11:33.054629Z",
     "iopub.status.busy": "2024-03-05T10:11:33.054270Z",
     "iopub.status.idle": "2024-03-05T10:11:33.058238Z",
     "shell.execute_reply": "2024-03-05T10:11:33.057558Z",
     "shell.execute_reply.started": "2024-03-05T10:11:33.054605Z"
    }
   },
   "outputs": [
    {
     "data": {
      "text/plain": [
       "['a pillow menu is available .',\n",
       " 'you will find a 24 - hour front desk at the property .',\n",
       " 'the property also offers packed lunches .',\n",
       " 'some apartments also have a balcony .',\n",
       " 'a dishwasher is also available .']"
      ]
     },
     "execution_count": 64,
     "metadata": {},
     "output_type": "execute_result"
    }
   ],
   "source": [
    "original_text[:5]"
   ]
  },
  {
   "cell_type": "code",
   "execution_count": 65,
   "metadata": {
    "execution": {
     "iopub.execute_input": "2024-03-05T10:11:33.059018Z",
     "iopub.status.busy": "2024-03-05T10:11:33.058804Z",
     "iopub.status.idle": "2024-03-05T10:11:33.065771Z",
     "shell.execute_reply": "2024-03-05T10:11:33.065292Z",
     "shell.execute_reply.started": "2024-03-05T10:11:33.058995Z"
    }
   },
   "outputs": [
    {
     "data": {
      "text/plain": [
       "['variety of wines . also available . . . . . .',\n",
       " 'will find a 24 - hour front desk at the property .',\n",
       " 'property also offers packed lunches . packed lunches . available . .',\n",
       " 'apartments have a balcony . . . . . . . .',\n",
       " 'fully equipped kitchen . a . . . . . . .']"
      ]
     },
     "execution_count": 65,
     "metadata": {},
     "output_type": "execute_result"
    }
   ],
   "source": [
    "generated_text[:5]"
   ]
  },
  {
   "cell_type": "markdown",
   "metadata": {},
   "source": [
    "Из написанного кода видно, что модель практические не усложнена относительно бейзлайна: по сути, добавлен только кастомный токенайзер и изменены некоторые части кода для совместимости. Хоть время обучения и увеличилось в 2 раза (с 15 до 30 минут), заметен значительный прогресс: модель начала периодически выдавать более естественные переводы, а BLEU выросло с 14 до 41."
   ]
  },
  {
   "cell_type": "markdown",
   "metadata": {
    "execution": {
     "iopub.execute_input": "2024-03-05T22:03:13.653670Z",
     "iopub.status.busy": "2024-03-05T22:03:13.652801Z",
     "iopub.status.idle": "2024-03-05T22:03:13.663832Z",
     "shell.execute_reply": "2024-03-05T22:03:13.661478Z",
     "shell.execute_reply.started": "2024-03-05T22:03:13.653592Z"
    }
   },
   "source": [
    "### Attention"
   ]
  },
  {
   "cell_type": "code",
   "execution_count": 238,
   "metadata": {
    "execution": {
     "iopub.execute_input": "2024-03-06T07:00:54.800415Z",
     "iopub.status.busy": "2024-03-06T07:00:54.799058Z",
     "iopub.status.idle": "2024-03-06T07:00:54.813455Z",
     "shell.execute_reply": "2024-03-06T07:00:54.812945Z",
     "shell.execute_reply.started": "2024-03-06T07:00:54.800328Z"
    }
   },
   "outputs": [
    {
     "data": {
      "text/plain": [
       "<module 'attention_model' from '/home/alexansemyachkin/Desktop/jupyter/sanek/attention_model.py'>"
      ]
     },
     "execution_count": 238,
     "metadata": {},
     "output_type": "execute_result"
    }
   ],
   "source": [
    "import attention_model\n",
    "imp.reload(attention_model)"
   ]
  },
  {
   "cell_type": "code",
   "execution_count": 239,
   "metadata": {
    "execution": {
     "iopub.execute_input": "2024-03-06T07:00:58.537740Z",
     "iopub.status.busy": "2024-03-06T07:00:58.535373Z",
     "iopub.status.idle": "2024-03-06T07:00:58.540651Z",
     "shell.execute_reply": "2024-03-06T07:00:58.540120Z",
     "shell.execute_reply.started": "2024-03-06T07:00:58.537652Z"
    }
   },
   "outputs": [],
   "source": [
    "BATCH_SIZE = 64\n",
    "\n",
    "train_iterator, valid_iterator, test_iterator = BucketIterator.splits(\n",
    "    (train_data, valid_data, test_data),\n",
    "    batch_size = BATCH_SIZE,\n",
    "    device = device,\n",
    "    sort_key=lambda x: len(x.src)\n",
    ")"
   ]
  },
  {
   "cell_type": "code",
   "execution_count": 240,
   "metadata": {
    "execution": {
     "iopub.execute_input": "2024-03-06T07:00:58.541970Z",
     "iopub.status.busy": "2024-03-06T07:00:58.541727Z",
     "iopub.status.idle": "2024-03-06T07:00:58.580438Z",
     "shell.execute_reply": "2024-03-06T07:00:58.579913Z",
     "shell.execute_reply.started": "2024-03-06T07:00:58.541946Z"
    }
   },
   "outputs": [
    {
     "name": "stdout",
     "output_type": "stream",
     "text": [
      "\n",
      "[torchtext.data.batch.Batch of size 64]\n",
      "\t[.trg]:[torch.cuda.LongTensor of size 64x34 (GPU 0)]\n",
      "\t[.src]:[torch.cuda.LongTensor of size 64x41 (GPU 0)]\n",
      "torch.Size([64, 41]) torch.Size([64, 34])\n"
     ]
    }
   ],
   "source": [
    "for x in train_iterator:\n",
    "    break\n",
    "print(x)\n",
    "print(x.src.shape, x.trg.shape)"
   ]
  },
  {
   "cell_type": "code",
   "execution_count": 241,
   "metadata": {
    "execution": {
     "iopub.execute_input": "2024-03-06T07:00:58.581437Z",
     "iopub.status.busy": "2024-03-06T07:00:58.581189Z",
     "iopub.status.idle": "2024-03-06T07:00:58.590903Z",
     "shell.execute_reply": "2024-03-06T07:00:58.590324Z",
     "shell.execute_reply.started": "2024-03-06T07:00:58.581413Z"
    }
   },
   "outputs": [],
   "source": [
    "INPUT_DIM = tokenizers['ru'].get_vocab_size()\n",
    "OUTPUT_DIM = tokenizers['en'].get_vocab_size()\n",
    "ENC_EMB_DIM = 256\n",
    "DEC_EMB_DIM = 256\n",
    "HID_DIM = 512\n",
    "N_LAYERS = 2\n",
    "ENC_DROPOUT = 0.5\n",
    "DEC_DROPOUT = 0.5\n",
    "\n",
    "\n",
    "N_EPOCHS = 10\n",
    "CLIP = 1"
   ]
  },
  {
   "cell_type": "code",
   "execution_count": 242,
   "metadata": {
    "execution": {
     "iopub.execute_input": "2024-03-06T07:00:58.592570Z",
     "iopub.status.busy": "2024-03-06T07:00:58.592366Z",
     "iopub.status.idle": "2024-03-06T07:00:58.597974Z",
     "shell.execute_reply": "2024-03-06T07:00:58.597431Z",
     "shell.execute_reply.started": "2024-03-06T07:00:58.592546Z"
    }
   },
   "outputs": [],
   "source": [
    "def init_weights(m):\n",
    "    for name, param in m.named_parameters():\n",
    "        nn.init.uniform_(param, -0.08, 0.08)\n",
    "\n",
    "def count_parameters(model):\n",
    "    return sum(p.numel() for p in model.parameters() if p.requires_grad)"
   ]
  },
  {
   "cell_type": "code",
   "execution_count": 243,
   "metadata": {
    "execution": {
     "iopub.execute_input": "2024-03-06T07:00:58.598876Z",
     "iopub.status.busy": "2024-03-06T07:00:58.598659Z",
     "iopub.status.idle": "2024-03-06T07:00:58.607063Z",
     "shell.execute_reply": "2024-03-06T07:00:58.606521Z",
     "shell.execute_reply.started": "2024-03-06T07:00:58.598861Z"
    }
   },
   "outputs": [],
   "source": [
    "Encoder = attention_model.Encoder\n",
    "Decoder = attention_model.Decoder\n",
    "Attention = attention_model.Attention\n",
    "Seq2Seq = attention_model.Seq2Seq"
   ]
  },
  {
   "cell_type": "code",
   "execution_count": 244,
   "metadata": {
    "execution": {
     "iopub.execute_input": "2024-03-06T07:00:58.607946Z",
     "iopub.status.busy": "2024-03-06T07:00:58.607740Z",
     "iopub.status.idle": "2024-03-06T07:00:58.745996Z",
     "shell.execute_reply": "2024-03-06T07:00:58.745434Z",
     "shell.execute_reply.started": "2024-03-06T07:00:58.607922Z"
    }
   },
   "outputs": [
    {
     "data": {
      "text/plain": [
       "Seq2Seq(\n",
       "  (encoder): Encoder(\n",
       "    (embedding): Embedding(21000, 256)\n",
       "    (rnn): LSTM(256, 512, num_layers=2, batch_first=True, dropout=0.5)\n",
       "    (dropout): Dropout(p=0.5, inplace=False)\n",
       "  )\n",
       "  (decoder): Decoder(\n",
       "    (embedding): Embedding(14770, 256)\n",
       "    (rnn): LSTM(256, 512, num_layers=2, batch_first=True, dropout=0.5)\n",
       "    (out): Linear(in_features=512, out_features=14770, bias=True)\n",
       "    (dropout): Dropout(p=0.5, inplace=False)\n",
       "    (attention): Attention(\n",
       "      (activation): Tanh()\n",
       "    )\n",
       "    (activation): ReLU()\n",
       "  )\n",
       "  (attentionn): Attention(\n",
       "    (activation): Tanh()\n",
       "  )\n",
       ")"
      ]
     },
     "execution_count": 244,
     "metadata": {},
     "output_type": "execute_result"
    }
   ],
   "source": [
    "enc = Encoder(INPUT_DIM, ENC_EMB_DIM, HID_DIM, N_LAYERS, ENC_DROPOUT)\n",
    "attn = Attention(HID_DIM)\n",
    "dec = Decoder(OUTPUT_DIM, DEC_EMB_DIM, HID_DIM, N_LAYERS, DEC_DROPOUT, attn)\n",
    "\n",
    "model = Seq2Seq(enc, dec, device, attn).to(device)\n",
    "\n",
    "model.apply(init_weights)"
   ]
  },
  {
   "cell_type": "code",
   "execution_count": 245,
   "metadata": {
    "execution": {
     "iopub.execute_input": "2024-03-06T07:00:58.746927Z",
     "iopub.status.busy": "2024-03-06T07:00:58.746726Z",
     "iopub.status.idle": "2024-03-06T07:00:58.750604Z",
     "shell.execute_reply": "2024-03-06T07:00:58.750097Z",
     "shell.execute_reply.started": "2024-03-06T07:00:58.746904Z"
    }
   },
   "outputs": [
    {
     "name": "stdout",
     "output_type": "stream",
     "text": [
      "The model has 24,090,546 trainable parameters\n"
     ]
    }
   ],
   "source": [
    "print(f'The model has {count_parameters(model):,} trainable parameters')"
   ]
  },
  {
   "cell_type": "code",
   "execution_count": 246,
   "metadata": {
    "execution": {
     "iopub.execute_input": "2024-03-06T07:00:58.751494Z",
     "iopub.status.busy": "2024-03-06T07:00:58.751289Z",
     "iopub.status.idle": "2024-03-06T07:00:58.758542Z",
     "shell.execute_reply": "2024-03-06T07:00:58.757969Z",
     "shell.execute_reply.started": "2024-03-06T07:00:58.751471Z"
    }
   },
   "outputs": [],
   "source": [
    "PAD_IDX = tokenizers['ru'].token_to_id('<pad>')\n",
    "optimizer = optim.Adam(model.parameters())\n",
    "criterion = nn.CrossEntropyLoss(ignore_index = PAD_IDX)"
   ]
  },
  {
   "cell_type": "code",
   "execution_count": 247,
   "metadata": {
    "execution": {
     "iopub.execute_input": "2024-03-06T07:00:58.759602Z",
     "iopub.status.busy": "2024-03-06T07:00:58.759323Z",
     "iopub.status.idle": "2024-03-06T07:00:58.765658Z",
     "shell.execute_reply": "2024-03-06T07:00:58.765153Z",
     "shell.execute_reply.started": "2024-03-06T07:00:58.759574Z"
    }
   },
   "outputs": [],
   "source": [
    "train_history = []\n",
    "valid_history = []\n",
    "\n",
    "best_valid_loss = float('inf')"
   ]
  },
  {
   "cell_type": "code",
   "execution_count": 248,
   "metadata": {
    "execution": {
     "iopub.execute_input": "2024-03-06T07:00:58.767124Z",
     "iopub.status.busy": "2024-03-06T07:00:58.766978Z",
     "iopub.status.idle": "2024-03-06T07:00:59.035607Z",
     "shell.execute_reply": "2024-03-06T07:00:59.035007Z",
     "shell.execute_reply.started": "2024-03-06T07:00:58.767110Z"
    }
   },
   "outputs": [
    {
     "data": {
      "text/plain": [
       "8089"
      ]
     },
     "execution_count": 248,
     "metadata": {},
     "output_type": "execute_result"
    }
   ],
   "source": [
    "torch.cuda.empty_cache()\n",
    "gc.collect()"
   ]
  },
  {
   "cell_type": "code",
   "execution_count": 249,
   "metadata": {
    "execution": {
     "iopub.execute_input": "2024-03-06T07:00:59.036206Z",
     "iopub.status.busy": "2024-03-06T07:00:59.036066Z",
     "iopub.status.idle": "2024-03-06T07:00:59.041203Z",
     "shell.execute_reply": "2024-03-06T07:00:59.040774Z",
     "shell.execute_reply.started": "2024-03-06T07:00:59.036192Z"
    }
   },
   "outputs": [
    {
     "data": {
      "text/plain": [
       "device(type='cuda')"
      ]
     },
     "execution_count": 249,
     "metadata": {},
     "output_type": "execute_result"
    }
   ],
   "source": [
    "device"
   ]
  },
  {
   "cell_type": "code",
   "execution_count": 250,
   "metadata": {
    "execution": {
     "iopub.execute_input": "2024-03-06T07:00:59.041726Z",
     "iopub.status.busy": "2024-03-06T07:00:59.041583Z",
     "iopub.status.idle": "2024-03-06T07:33:29.141780Z",
     "shell.execute_reply": "2024-03-06T07:33:29.141312Z",
     "shell.execute_reply.started": "2024-03-06T07:00:59.041711Z"
    }
   },
   "outputs": [
    {
     "data": {
      "image/png": "[encoded data removed]",
      "text/plain": [
       "<Figure size 1200x800 with 2 Axes>"
      ]
     },
     "metadata": {},
     "output_type": "display_data"
    },
    {
     "name": "stdout",
     "output_type": "stream",
     "text": [
      "Epoch: 10 | Time: 3m 15s\n",
      "\tTrain Loss: 2.846 | Train PPL:  17.224\n",
      "\t Val. Loss: 4.908 |  Val. PPL: 135.390\n"
     ]
    }
   ],
   "source": [
    "train(model, train_iterator, valid_iterator, optimizer, criterion, CLIP, train_history, valid_history, best_valid_loss, 'attention_model.pt')"
   ]
  },
  {
   "cell_type": "markdown",
   "metadata": {},
   "source": [
    "Обучение заняло 32 минуты"
   ]
  },
  {
   "cell_type": "code",
   "execution_count": 251,
   "metadata": {
    "execution": {
     "iopub.execute_input": "2024-03-06T07:33:29.142877Z",
     "iopub.status.busy": "2024-03-06T07:33:29.142512Z",
     "iopub.status.idle": "2024-03-06T07:33:35.819313Z",
     "shell.execute_reply": "2024-03-06T07:33:35.818827Z",
     "shell.execute_reply.started": "2024-03-06T07:33:29.142852Z"
    }
   },
   "outputs": [
    {
     "name": "stderr",
     "output_type": "stream",
     "text": [
      "118it [00:06, 17.69it/s]\n"
     ]
    }
   ],
   "source": [
    "original_text = []\n",
    "generated_text = []\n",
    "with torch.no_grad():\n",
    "\n",
    "    for i, batch in tqdm(enumerate(test_iterator)):\n",
    "\n",
    "        src = batch.src\n",
    "        trg = batch.trg\n",
    "\n",
    "        output = model(src, trg, 0) # turn off teacher forcing\n",
    "\n",
    "        # trg = [batch size, trg sent len]\n",
    "        # output = [batch size, trg sent len, output dim]\n",
    "\n",
    "        output = output.argmax(dim=-1)\n",
    "\n",
    "        original_text.extend(tokenizers['en'].decode_batch(trg.cpu().tolist()))\n",
    "        generated_text.extend(tokenizers['en'].decode_batch(output[:, 1:].detach().cpu().tolist()))"
   ]
  },
  {
   "cell_type": "code",
   "execution_count": 252,
   "metadata": {
    "execution": {
     "iopub.execute_input": "2024-03-06T07:33:35.820110Z",
     "iopub.status.busy": "2024-03-06T07:33:35.819920Z",
     "iopub.status.idle": "2024-03-06T07:33:37.156006Z",
     "shell.execute_reply": "2024-03-06T07:33:37.155423Z",
     "shell.execute_reply.started": "2024-03-06T07:33:35.820094Z"
    }
   },
   "outputs": [
    {
     "data": {
      "text/plain": [
       "41.780427904144794"
      ]
     },
     "execution_count": 252,
     "metadata": {},
     "output_type": "execute_result"
    }
   ],
   "source": [
    "corpus_bleu([[text] for text in original_text], generated_text) * 100"
   ]
  },
  {
   "cell_type": "code",
   "execution_count": 253,
   "metadata": {
    "execution": {
     "iopub.execute_input": "2024-03-06T07:33:37.156670Z",
     "iopub.status.busy": "2024-03-06T07:33:37.156524Z",
     "iopub.status.idle": "2024-03-06T07:33:37.160240Z",
     "shell.execute_reply": "2024-03-06T07:33:37.159643Z",
     "shell.execute_reply.started": "2024-03-06T07:33:37.156654Z"
    }
   },
   "outputs": [
    {
     "data": {
      "text/plain": [
       "['a pillow menu is available .',\n",
       " 'you will find a 24 - hour front desk at the property .',\n",
       " 'the property also offers packed lunches .',\n",
       " 'some apartments also have a balcony .',\n",
       " 'a dishwasher is also available .']"
      ]
     },
     "execution_count": 253,
     "metadata": {},
     "output_type": "execute_result"
    }
   ],
   "source": [
    "original_text[:5]"
   ]
  },
  {
   "cell_type": "code",
   "execution_count": 254,
   "metadata": {
    "execution": {
     "iopub.execute_input": "2024-03-06T07:33:37.161143Z",
     "iopub.status.busy": "2024-03-06T07:33:37.160930Z",
     "iopub.status.idle": "2024-03-06T07:33:37.167747Z",
     "shell.execute_reply": "2024-03-06T07:33:37.167235Z",
     "shell.execute_reply.started": "2024-03-06T07:33:37.161120Z"
    }
   },
   "outputs": [
    {
     "data": {
      "text/plain": [
       "['strong you . . . . . . . . . .',\n",
       " 'will find a 24 - hour front desk . the property .',\n",
       " 'hosts packed lunches . . . . . . . . .',\n",
       " 'have a balcony . . . . . . . . .',\n",
       " 'kitchen . . . there is a dishwasher . . . .']"
      ]
     },
     "execution_count": 254,
     "metadata": {},
     "output_type": "execute_result"
    }
   ],
   "source": [
    "generated_text[:5]"
   ]
  },
  {
   "cell_type": "markdown",
   "metadata": {},
   "source": [
    "Как видно, и время обучение, и качество остались примерно такими же. Возможно, различия могут проявиться на большем объеме данных, либо при сравнении на более сложных текстах."
   ]
  }
 ],
 "metadata": {
  "anaconda-cloud": {},
  "colab": {
   "machine_shape": "hm",
   "provenance": []
  },
  "kernelspec": {
   "display_name": "Python 3 (ipykernel)",
   "language": "python",
   "name": "python3"
  },
  "language_info": {
   "codemirror_mode": {
    "name": "ipython",
    "version": 3
   },
   "file_extension": ".py",
   "mimetype": "text/x-python",
   "name": "python",
   "nbconvert_exporter": "python",
   "pygments_lexer": "ipython3",
   "version": "3.10.13"
  }
 },
 "nbformat": 4,
 "nbformat_minor": 4
}
